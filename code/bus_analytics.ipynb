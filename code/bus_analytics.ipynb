{
  "metadata": {
    "kernelspec": {
      "display_name": "Streamlit Notebook",
      "name": "streamlit"
    },
    "colab": {
      "provenance": []
    }
  },
  "nbformat_minor": 5,
  "nbformat": 4,
  "cells": [
    {
      "cell_type": "code",
      "id": "3775908f-ca36-4846-8f38-5adca39217f2",
      "metadata": {
        "language": "sql",
        "name": "cell1",
        "id": "3775908f-ca36-4846-8f38-5adca39217f2"
      },
      "source": [
        "DROP TABLE IF EXISTS PROJECT2.raw_data.bus;\n",
        "\n",
        "CREATE TABLE PROJECT2.raw_data.bus (\n",
        "    ID INTEGER,\n",
        "\t  DISTRICT VARCHAR(50),\n",
        "\t  STOP_ID VARCHAR(10),\n",
        "\t  STOP_NAME VARCHAR(100),\n",
        "\t  ROUTE_COUNT INTEGER\n",
        ");"
      ],
      "execution_count": null,
      "outputs": []
    },
    {
      "cell_type": "code",
      "id": "8d50cbf4-0c8d-4950-86cb-114990437ac9",
      "metadata": {
        "language": "sql",
        "name": "cell2",
        "id": "8d50cbf4-0c8d-4950-86cb-114990437ac9"
      },
      "source": [
        "COPY INTO PROJECT2.raw_data.bus\n",
        "FROM 's3:/'\n",
        "credentials = (AWS_KEY_ID='' AWS_SECRET_KEY='')\n",
        "FILE_FORMAT = (type='CSV' skip_header=1 FIELD_OPTIONALLY_ENCLOSED_BY='\"');"
      ],
      "execution_count": null,
      "outputs": []
    },
    {
      "cell_type": "code",
      "id": "c695373e-ac74-4b62-a1f1-08206cbd5c81",
      "metadata": {
        "language": "sql",
        "name": "cell3",
        "id": "c695373e-ac74-4b62-a1f1-08206cbd5c81"
      },
      "source": [
        "-- 기존 테이블이 있으면 삭제\n",
        "DROP TABLE IF EXISTS PROJECT2.analytics.bus_analytics;\n",
        "\n",
        "-- 새 테이블 생성\n",
        "CREATE TABLE PROJECT2.analytics.bus_analytics AS\n",
        "SELECT\n",
        "    id,\n",
        "    district,\n",
        "    address,\n",
        "    stop_name,\n",
        "    route_count\n",
        "FROM PROJECT2.raw_data.bus;"
      ],
      "execution_count": null,
      "outputs": []
    }
  ]
}