{
 "cells": [
  {
   "cell_type": "code",
   "execution_count": null,
   "id": "59b2baeb",
   "metadata": {},
   "outputs": [],
   "source": [
    "COPY INTO PROJECT2.raw_data.POPULATION\n",
    "FROM 's3://bdjs3test/population.csv'\n",
    "credentials=(AWS_KEY_ID='' AWS_SECRET_KEY='')\n",
    "FILE_FORMAT=(type='CSV' skip_header=4\n",
    "FIELD_OPTIONALLY_ENCLOSED_BY='\"');"
   ]
  },
  {
   "cell_type": "code",
   "execution_count": null,
   "id": "7f802951",
   "metadata": {},
   "outputs": [],
   "source": [
    "CREATE OR REPLACE TABLE PROJECT2.ANALYTICS.POPULATION (\n",
    "    \"자치구명\" VARCHAR(15),\n",
    "    \"인구\" INT\n",
    ");\n",
    "\n",
    "INSERT INTO PROJECT2.ANALYTICS.POPULATION (\"자치구명\", \"인구\")\n",
    "SELECT \"동별(2)\", \"인구\"\n",
    "FROM PROJECT2.raw_data.POPULATION;"
   ]
  }
 ],
 "metadata": {
  "kernelspec": {
   "display_name": "Python 3 (ipykernel)",
   "language": "python",
   "name": "python3"
  },
  "language_info": {
   "codemirror_mode": {
    "name": "ipython",
    "version": 3
   },
   "file_extension": ".py",
   "mimetype": "text/x-python",
   "name": "python",
   "nbconvert_exporter": "python",
   "pygments_lexer": "ipython3",
   "version": "3.9.12"
  }
 },
 "nbformat": 4,
 "nbformat_minor": 5
}
