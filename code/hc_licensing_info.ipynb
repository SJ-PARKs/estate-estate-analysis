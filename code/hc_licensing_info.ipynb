{
 "cells": [
  {
   "cell_type": "markdown",
   "metadata": {},
   "source": [
    "csv 파일을 COPY하기 위해 테이블 정의"
   ]
  },
  {
   "cell_type": "code",
   "execution_count": null,
   "metadata": {
    "vscode": {
     "languageId": "sql"
    }
   },
   "outputs": [],
   "source": [
    "CREATE OR REPLACE TABLE project2.raw_data.seoul_hc_licensing_info(\n",
    "    local_government_code VARCHAR(20),\n",
    "    management_number VARCHAR(50) PRIMARY KEY,\n",
    "    license_date VARCHAR(32),\n",
    "    license_cancellation_date VARCHAR(32),\n",
    "    business_status_code INT,\n",
    "    business_status_name VARCHAR(50),\n",
    "    detailed_business_status_code INT,\n",
    "    detailed_business_status_name VARCHAR(50),\n",
    "    closure_date VARCHAR(32),\n",
    "    temporary_closure_start_date VARCHAR(32),\n",
    "    temporary_closure_end_date VARCHAR(32),\n",
    "    reopening_date VARCHAR(32),\n",
    "    phone_number VARCHAR(20),\n",
    "    location_area DECIMAL(10, 2),\n",
    "    location_zip_code VARCHAR(10),\n",
    "    land_address VARCHAR(255),\n",
    "    road_address VARCHAR(255),\n",
    "    road_zip_code VARCHAR(10),\n",
    "    business_name VARCHAR(100),\n",
    "    last_update_date VARCHAR(32),\n",
    "    data_update_type VARCHAR(50),\n",
    "    data_update_date VARCHAR(32),\n",
    "    business_type_name VARCHAR(50),\n",
    "    coordinate_x VARCHAR(32),\n",
    "    coordinate_y VARCHAR(32),\n",
    "    medical_institution_type VARCHAR(50),\n",
    "    number_of_medical_staff INT,\n",
    "    number_of_inpatient_rooms INT,\n",
    "    number_of_beds INT,\n",
    "    total_area DECIMAL(10, 2),\n",
    "    medical_department_content TEXT,\n",
    "    medical_department_name TEXT,\n",
    "    designation_cancellation_date VARCHAR(32),\n",
    "    palliative_care_designation_type VARCHAR(50),\n",
    "    palliative_care_department_name VARCHAR(100),\n",
    "    ambulance_special INT,\n",
    "    ambulance_general INT,\n",
    "    total_staff INT,\n",
    "    number_of_paramedics INT,\n",
    "    approved_beds INT,\n",
    "    initial_designation_date VARCHAR(32),\n",
    "    district VARCHAR(32),\n",
    "    facility_level VARCHAR(10)\n",
    ");"
   ]
  },
  {
   "cell_type": "markdown",
   "metadata": {},
   "source": [
    "S3에 올려둔 파일을 테이블로 COPY"
   ]
  },
  {
   "cell_type": "code",
   "execution_count": null,
   "metadata": {
    "vscode": {
     "languageId": "sql"
    }
   },
   "outputs": [],
   "source": [
    "COPY INTO project2.raw_data.seoul_hc_licensing_info\n",
    "FROM 's3://mybucket/seoul_hc_licensing_info.csv'\n",
    "credentials=(AWS_KEY_ID='AWS_KEY_ID' AWS_SECRET_KEY='AWS_SECRET_KEY')\n",
    "FILE_FORMAT=(type='csv' skip_header=1 FIELD_OPTIONALLY_ENCLOSED_BY='\"' NULL_IF = ('', '-'))\n",
    ";"
   ]
  },
  {
   "cell_type": "markdown",
   "metadata": {},
   "source": [
    "분석에 필요한 정보만 analytics 스키마 아래 테이블에 저장"
   ]
  },
  {
   "cell_type": "code",
   "execution_count": null,
   "metadata": {
    "vscode": {
     "languageId": "sql"
    }
   },
   "outputs": [],
   "source": [
    "CREATE TABLE project2.analytics.seoul_hc_active_info AS\n",
    "SELECT management_number, business_name, business_type_name, district, facility_level\n",
    "FROM project2.raw_data.seoul_hc_licensing_info\n",
    "WHERE business_status_code=1;"
   ]
  }
 ],
 "metadata": {
  "language_info": {
   "name": "python"
  }
 },
 "nbformat": 4,
 "nbformat_minor": 2
}
