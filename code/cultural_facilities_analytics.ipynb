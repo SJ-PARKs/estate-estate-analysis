{
 "metadata": {
  "kernelspec": {
   "display_name": "Streamlit Notebook",
   "name": "streamlit"
  }
 },
 "nbformat_minor": 5,
 "nbformat": 4,
 "cells": [
  {
   "cell_type": "code",
   "id": "3775908f-ca36-4846-8f38-5adca39217f2",
   "metadata": {
    "language": "sql",
    "name": "cell1"
   },
   "source": "DROP TABLE IF EXISTS PROJECT2.raw_data.cultural_facilities;\n\nCREATE TABLE PROJECT2.raw_data.cultural_facilities (\n    id INT,\n    category STRING,\n    facility_name STRING,\n    address STRING,\n    latitude FLOAT,\n    longitude FLOAT,\n    phone_number STRING,\n    fax_number STRING,\n    website STRING,\n    opening_hours STRING,\n    admission_fee STRING,\n    closing_days STRING,\n    opening_date DATE,\n    seating_capacity INT,\n    representative_image STRING,\n    additional_info STRING,\n    facility_description STRING,\n    free_admission STRING,\n    subway_stations STRING,\n    bus_stations STRING,\n    yellow_bus STRING,\n    green_bus STRING,\n    blue_bus STRING,\n    red_bus STRING,\n    airport_bus STRING\n);",
   "execution_count": null,
   "outputs": []
  },
  {
   "cell_type": "code",
   "id": "8d50cbf4-0c8d-4950-86cb-114990437ac9",
   "metadata": {
    "language": "sql",
    "name": "cell2"
   },
   "source": "COPY INTO PROJECT2.raw_data.cultural_facilities\nFROM 's3://devcourse-project2/culture_facilities/서울시 문화공간 정보.csv'\ncredentials = (AWS_KEY_ID='' AWS_SECRET_KEY='')\nFILE_FORMAT = (TYPE = 'CSV', FIELD_OPTIONALLY_ENCLOSED_BY = '\"', SKIP_HEADER = 1)\nON_ERROR = 'CONTINUE';",
   "execution_count": null,
   "outputs": []
  },
  {
   "cell_type": "code",
   "id": "c695373e-ac74-4b62-a1f1-08206cbd5c81",
   "metadata": {
    "language": "sql",
    "name": "cell3"
   },
   "source": "-- 기존 테이블이 있으면 삭제\nDROP TABLE IF EXISTS PROJECT2.ANALYTICS.cultural_facilities_analytics;\n\n-- 새 테이블 생성\nCREATE TABLE PROJECT2.ANALYTICS.cultural_facilities_analytics AS\nSELECT                    \n    category,              \n    facility_name,         \n    address,               \n    SPLIT_PART(address, ' ', 2) AS district,\n    LONGITUDE,\n    LATITUDE\nFROM PROJECT2.raw_data.cultural_facilities;",
   "execution_count": null,
   "outputs": []
  },
  {
   "cell_type": "code",
   "id": "8a5657a2-5100-4379-aec1-8d4a7ebec130",
   "metadata": {
    "language": "sql",
    "name": "cell4"
   },
   "outputs": [],
   "source": "DROP TABLE IF EXISTS PROJECT2.raw_data.theaters;\n\nCREATE TABLE PROJECT2.raw_data.theaters (\n    administrative_code VARCHAR(20),\n    management_number VARCHAR(50),\n    permit_date VARCHAR(50),\n    permit_cancel_date VARCHAR(50),\n    business_status_code VARCHAR(10),\n    business_status_name VARCHAR(50),\n    detailed_status_code VARCHAR(10),\n    detailed_status_name VARCHAR(50),\n    closure_date VARCHAR(50),\n    suspension_start_date VARCHAR(50),\n    suspension_end_date VARCHAR(50),\n    reopening_date VARCHAR(50),\n    phone_number VARCHAR(20),\n    area VARCHAR(20),\n    postal_code VARCHAR(10),\n    land_address VARCHAR(255),\n    road_address VARCHAR(255),\n    road_postal_code VARCHAR(10),\n    business_name VARCHAR(100),\n    last_updated_date VARCHAR(50),\n    data_update_type VARCHAR(50),\n    data_update_date VARCHAR(50),\n    business_type VARCHAR(100),\n    coord_x VARCHAR(20),\n    coord_y VARCHAR(20),\n    cultural_sports_category VARCHAR(50),\n    cultural_business_type VARCHAR(50),\n    total_floors VARCHAR(10),\n    surrounding_environment VARCHAR(50),\n    production_items TEXT,\n    facility_area VARCHAR(20),\n    above_ground_floors VARCHAR(10),\n    underground_floors VARCHAR(10),\n    building_usage VARCHAR(50),\n    passage_width VARCHAR(10),\n    lighting_intensity VARCHAR(10),\n    karaoke_rooms VARCHAR(10),\n    youth_rooms VARCHAR(10),\n    emergency_stairs VARCHAR(10),\n    emergency_exit VARCHAR(10),\n    automatic_ventilation VARCHAR(10),\n    youth_room_availability VARCHAR(10),\n    special_lighting VARCHAR(10),\n    soundproofing VARCHAR(10),\n    video_replay_device VARCHAR(10),\n    lighting_availability VARCHAR(10),\n    sound_equipment VARCHAR(10),\n    convenience_facility VARCHAR(10),\n    fire_safety_facility VARCHAR(10),\n    total_game_machines VARCHAR(10),\n    other_business_types VARCHAR(100),\n    provided_game_name TEXT,\n    theater_type VARCHAR(50),\n    item_name VARCHAR(100),\n    initial_registration_date VARCHAR(50),\n    regional_category VARCHAR(50)\n);",
   "execution_count": null
  },
  {
   "cell_type": "code",
   "id": "015ee68c-e00d-4cc6-8b6c-1c5050edccde",
   "metadata": {
    "language": "sql",
    "name": "cell5"
   },
   "outputs": [],
   "source": "COPY INTO PROJECT2.raw_data.theaters\nFROM 's3://devcourse-project2/culture_facilities/서울시 영화상영관 인허가 정보.csv'\nCREDENTIALS = (AWS_KEY_ID='' AWS_SECRET_KEY='')\nFILE_FORMAT = (TYPE = 'CSV', FIELD_OPTIONALLY_ENCLOSED_BY = '\"', SKIP_HEADER = 1, EMPTY_FIELD_AS_NULL = TRUE)\nON_ERROR = 'CONTINUE';\n",
   "execution_count": null
  },
  {
   "cell_type": "code",
   "id": "f97ee5b6-7d69-4595-becc-62708acd9f01",
   "metadata": {
    "language": "sql",
    "name": "cell6"
   },
   "outputs": [],
   "source": "-- 기존 테이블이 있으면 삭제\nDROP TABLE IF EXISTS PROJECT2.ANALYTICS.theaters_analytics;\n\n-- 새 테이블 생성\nCREATE TABLE PROJECT2.ANALYTICS.theaters_analytics AS\nSELECT\n    '영화관' AS category,\n    business_name AS FACILITY_AREA,                \n    road_address AS address, -- Using road_address for the address\n    SPLIT_PART(road_address, ' ', 2) AS district,  \nFROM PROJECT2.raw_data.theaters\nWHERE business_status_name != '폐업'\nGROUP BY administrative_code,business_name,ADDRESS;",
   "execution_count": null
  },
  {
   "cell_type": "code",
   "id": "e7f67a82-4e32-43c2-ad22-d6619287df1c",
   "metadata": {
    "language": "sql",
    "name": "cell7"
   },
   "outputs": [],
   "source": "CREATE TABLE PROJECT2.ANALYTICS.CULTURAL_FACILITIES_INCLUDE_THEATER AS\nSELECT *                     \nFROM PROJECT2.ANALYTICS.CULTURAL_FACILITIES_ANALYTICS\nUNION ALL\nSELECT * \nFROM PROJECT2.ANALYTICS.THEATERS_ANALYTICS;",
   "execution_count": null
  },
  {
   "cell_type": "code",
   "id": "ed76744e-a1cc-436c-bda4-6333ad199aa5",
   "metadata": {
    "language": "sql",
    "name": "cell8"
   },
   "outputs": [],
   "source": "CREATE TABLE PROJECT2.ANALYTICS.SEOUL_DISTRICT_PRICE_AND_FACILITY_SUMMARY AS\nSELECT \n    A.DISTRICT AS \"지역\", \n    B.AVERAGE_PRICE_PER_UNIT AS \"평단가\",\n    A.CATEGORY_COUNT AS \"전체갯수\",\n    A.theater AS \"영화관\",\n    A.library AS \"도서관\",\n    A.concert AS \"공연장\",\n    A.museum AS \"박물관_기념관\",\n    A.art AS \"미술관_갤러리\",\n    A.art1 AS \"문화예술회관\",\n    A.art2 AS \"문화원\",\n    A.etc AS \"기타\"\nFROM \n    (SELECT DISTRICT, COUNT(*) AS CATEGORY_COUNT,\n        SUM(CASE WHEN CATEGORY = '영화관' THEN 1 ELSE 0 END) AS theater,\n        SUM(CASE WHEN CATEGORY = '도서관' THEN 1 ELSE 0 END) AS library,\n        SUM(CASE WHEN CATEGORY = '공연장' THEN 1 ELSE 0 END) AS concert,\n        SUM(CASE WHEN CATEGORY = '박물관/기념관' THEN 1 ELSE 0 END) AS museum,\n        SUM(CASE WHEN CATEGORY = '미술관/갤러리' THEN 1 ELSE 0 END) AS art,\n        SUM(CASE WHEN CATEGORY = '문화예술회관' THEN 1 ELSE 0 END) AS art1,\n        SUM(CASE WHEN CATEGORY = '문화원' THEN 1 ELSE 0 END) AS art2,\n        SUM(CASE WHEN CATEGORY = '기타' THEN 1 ELSE 0 END) AS etc\n     FROM PROJECT2.ANALYTICS.CULTURAL_FACILITIES_INCLUDE_THEATER \n     GROUP BY DISTRICT) AS A\nJOIN \n    (SELECT \"자치구명\" AS DISTRICT, \"평단가\" AS AVERAGE_PRICE_PER_UNIT \n     FROM PROJECT2.ANALYTICS.PROPERTY_UNIT_PRICE \n     WHERE \"접수연도\" = '2024') AS B\nON A.DISTRICT = B.DISTRICT;",
   "execution_count": null
  }
 ]
}