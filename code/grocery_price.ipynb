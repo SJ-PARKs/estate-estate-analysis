{
 "cells": [
  {
   "cell_type": "code",
   "execution_count": null,
   "metadata": {
    "vscode": {
     "languageId": "plaintext"
    }
   },
   "outputs": [],
   "source": [
    "CREATE OR REPLACE TABLE project2.raw_data.grocery_price(\n",
    "record_id integer primary key,\n",
    "market_id integer,\n",
    "market varchar(32),\n",
    "item_no integer,\n",
    "item_name varchar(32),\n",
    "sale_unit varchar(32),\n",
    "price_krw float,\n",
    "year_month varchar(32),\n",
    "note varchar,\n",
    "market_type_code number,\n",
    "market_type_name varchar(32),\n",
    "district_code number,\n",
    "district_name varchar(32),\n",
    "inspection_date date\n",
    ");\n",
    "\n",
    "COPY INTO project2.raw_data.grocery_price\n",
    "from 's3://yeonkyu-test-bucket/grocery_price.csv'\n",
    "credentials=(AWS_KEY_ID='***' AWS_SECRET_KEY='***')\n",
    "FILE_FORMAT = (type = 'CSV' skip_header=1 FIELD_OPTIONALLY_ENCLOSED_BY='\"');\n",
    "\n",
    "SELECT *\n",
    "FROM project2.analytics.grocery_price_analytics;\n",
    "\n",
    "SELECT DISTRICT_NAME, round(avg(PRICE_KRW)) AS GROCERY_AVG_PRICE\n",
    "FROM project2.raw_data.grocery_price\n",
    "WHERE PRICE_KRW <> 0\n",
    "GROUP BY DISTRICT_NAME\n",
    "ORDER BY PRICE;\n",
    "\n",
    "CREATE OR REPLACE TABLE project2.analytics.grocery_price_analytics AS\n",
    "SELECT a.\"자치구명\", a.\"평단가\", b.GROCERY_AVG_PRICE\n",
    "FROM project2.analytics.property_unit_price a\n",
    "JOIN (\n",
    "    SELECT DISTRICT_NAME, ROUND(AVG(PRICE_KRW)) AS GROCERY_AVG_PRICE\n",
    "    FROM project2.raw_data.grocery_price\n",
    "    WHERE PRICE_KRW <> 0\n",
    "    GROUP BY DISTRICT_NAME\n",
    ") b\n",
    "ON a.\"자치구명\" = b.DISTRICT_NAME\n",
    "WHERE a.\"접수연도\" = 2023\n",
    "ORDER BY b.GROCERY_AVG_PRICE;\n",
    "\n"
   ]
  }
 ],
 "metadata": {
  "language_info": {
   "name": "python"
  }
 },
 "nbformat": 4,
 "nbformat_minor": 2
}
