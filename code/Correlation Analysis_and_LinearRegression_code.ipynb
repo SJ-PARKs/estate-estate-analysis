{
 "cells": [
  {
   "cell_type": "code",
   "execution_count": 1,
   "id": "fed8dbdd",
   "metadata": {},
   "outputs": [],
   "source": [
    "import pandas as pd"
   ]
  },
  {
   "cell_type": "code",
   "execution_count": null,
   "id": "6afb10b7",
   "metadata": {},
   "outputs": [],
   "source": [
    "df1=pd.read_csv('pop-pr.csv',encoding='utf-8-sig')\n",
    "df2=pd.read_csv('물가-평단가.csv',encoding='utf-8-sig')\n",
    "df3=pd.read_csv('지하철역사수_환승역수_평단가.csv',encoding='utf-8-sig')\n",
    "df4=pd.read_csv('집값-문화시설 갯수.csv',encoding='utf-8-sig')\n",
    "df5=pd.read_csv('집값-인구당병원수.csv',encoding='utf-8-sig')\n",
    "df6=pd.read_csv('버스정류장노선수_평단가.csv',encoding='utf-8-sig')\n",
    "# 상관관계 분석할 데이터들 가져오기"
   ]
  },
  {
   "cell_type": "code",
   "execution_count": null,
   "id": "fb1f3733",
   "metadata": {},
   "outputs": [],
   "source": [
    "df1[[\"평단가\",\"인구\"]].corr()[[\"평단가\"]][1:]\n",
    "# 인구"
   ]
  },
  {
   "cell_type": "code",
   "execution_count": null,
   "id": "5498c174",
   "metadata": {},
   "outputs": [],
   "source": [
    "df2.corr()[[\"평단가\"]][1:]\n",
    "# 물가"
   ]
  },
  {
   "cell_type": "code",
   "execution_count": null,
   "id": "5422e444",
   "metadata": {},
   "outputs": [],
   "source": [
    "a=[]\n",
    "c=[]\n",
    "b=[i for i in range(2010,2025)]\n",
    "for i in range(2010,2025):\n",
    "    a.append(float(df3.loc[dft[\"YEAR\"]==i][[\"UNIT_PRICE\",\"STATION_CNT\"]].corr()[\"UNIT_PRICE\"][1:]))\n",
    "    c.append(float(df3.loc[dft[\"YEAR\"]==i][[\"UNIT_PRICE\",\"TRANSFER_STATION_CNT\"]].corr()[\"UNIT_PRICE\"][1:]))\n",
    "    \n",
    "dic2 = {\"연도\" : b, \"지하철노선_평당가_상관계수\":a, \"환승역_평당가_상관계수\":c}\n",
    "df_t=pd.DataFrame(dic2)\n",
    "df_t\n",
    "# 년도별 지하철역사수/환승역수"
   ]
  },
  {
   "cell_type": "code",
   "execution_count": null,
   "id": "2c7764e9",
   "metadata": {},
   "outputs": [],
   "source": [
    "df4.corr()[[\"평단가\"]][1:]\n",
    "# 문화시설"
   ]
  },
  {
   "cell_type": "code",
   "execution_count": null,
   "id": "b51e7d87",
   "metadata": {},
   "outputs": [],
   "source": [
    "df5.corr()[[\"H_COUNT_BY_POPULATION\"]][1:]\n",
    "# 병원수"
   ]
  },
  {
   "cell_type": "code",
   "execution_count": null,
   "id": "eb251f6b",
   "metadata": {},
   "outputs": [],
   "source": [
    "a=[]\n",
    "b=[i for i in range(2010,2025)]\n",
    "for i in range(2010,2025):\n",
    "    a.append(float(df6.loc[df6[\"접수연도\"]==i][[\"평단가\",\"정류장노선개수\"]].corr()[\"평단가\"][1:]))\n",
    "    \n",
    "dic1 = {\"연도\" : b, \"버스노선_평당가_상관계수\":a}\n",
    "df_b=pd.DataFrame(dic1)\n",
    "df_b\n",
    "# 년도별 버스노선"
   ]
  },
  {
   "cell_type": "code",
   "execution_count": null,
   "id": "27a67210",
   "metadata": {},
   "outputs": [],
   "source": [
    "df = df.read_csv(\"2024년총테이블.csv\",encoding='utf-8-sig')\n",
    "# 데이터들이 합쳐진 테이블, 그중 상관계수가 낮은 인구/물가는 제외했음\n",
    "# 년도별 데이터들은 다른 테이블에 맞추어 2024년 만을 사용함"
   ]
  },
  {
   "cell_type": "code",
   "execution_count": null,
   "id": "a92cb41d",
   "metadata": {},
   "outputs": [],
   "source": [
    "from sklearn.model_selection import train_test_split\n",
    "from sklearn.linear_model import LinearRegression\n",
    "import matplotlib.pyplot as plt"
   ]
  },
  {
   "cell_type": "code",
   "execution_count": null,
   "id": "5f521fe2",
   "metadata": {},
   "outputs": [],
   "source": [
    "X = df.drop('평단가', axis=1)\n",
    "X = X.drop('자치구명', axis=1)\n",
    "X = X.drop('GROCERY_AVG_PRICE',axis=1)\n",
    "y = df['평단가']\n",
    "\n",
    "# X 는 입력되는 값, y는 출력될 값"
   ]
  },
  {
   "cell_type": "code",
   "execution_count": null,
   "id": "59cc1fcd",
   "metadata": {},
   "outputs": [],
   "source": [
    "X_train, X_test, y_train, y_test = train_test_split(X, y, test_size=0.2, random_state=9)\n",
    "#  학습데이터/테스트 데이터 구분"
   ]
  },
  {
   "cell_type": "code",
   "execution_count": null,
   "id": "bcff2b4e",
   "metadata": {},
   "outputs": [],
   "source": [
    "model=LinearRegression()\n",
    "model.fit(X_train, y_train)\n",
    "# 모델 선택 후 학습"
   ]
  },
  {
   "cell_type": "code",
   "execution_count": null,
   "id": "6cac2b62",
   "metadata": {},
   "outputs": [],
   "source": [
    "print(\"기울기:\",model.coef_)\n",
    "print(\"y절편:\",model.intercept_)\n",
    "# 모델 파라미터 확인"
   ]
  },
  {
   "cell_type": "code",
   "execution_count": null,
   "id": "e299be08",
   "metadata": {},
   "outputs": [],
   "source": [
    "pred = model.predict(X_test)\n",
    "\n",
    "from sklearn.metrics import r2_score\n",
    "score = r2_score(y_test, pred)\n",
    "print(score)\n",
    "# 모델 성능 평가"
   ]
  },
  {
   "cell_type": "code",
   "execution_count": null,
   "id": "7dbd79c8",
   "metadata": {},
   "outputs": [],
   "source": [
    "a=[[2582,27,158,0.005263]]\n",
    "model.predict(a) # 강남구 예측, 실제 값은 2750\n",
    "# 실제 예측 예시\n",
    "b=[[923,6,26,0.001251]]\n",
    "model.predict(b) # 도봉구 예측, 실제 값은 788\n",
    "c=[[927,11,28,0.001640]]\n",
    "model.predict(c) # 강북구 예측, 실제 값은 889"
   ]
  },
  {
   "cell_type": "code",
   "execution_count": null,
   "id": "6006f2ed",
   "metadata": {},
   "outputs": [],
   "source": [
    "col=list(X.columns)\n",
    "abc=list(model.coef_)\n",
    "n=model.intercept_\n",
    "print(f\"평단가 예측 수식:({abc[0]})*{col[0]}+({abc[1]})*{col[1]}+({abc[2]})*{col[2]}+({abc[3]})*{col[3]}+{n}\")\n",
    "# 최종 식 출력"
   ]
  }
 ],
 "metadata": {
  "kernelspec": {
   "display_name": "Python 3 (ipykernel)",
   "language": "python",
   "name": "python3"
  },
  "language_info": {
   "codemirror_mode": {
    "name": "ipython",
    "version": 3
   },
   "file_extension": ".py",
   "mimetype": "text/x-python",
   "name": "python",
   "nbconvert_exporter": "python",
   "pygments_lexer": "ipython3",
   "version": "3.9.12"
  }
 },
 "nbformat": 4,
 "nbformat_minor": 5
}
